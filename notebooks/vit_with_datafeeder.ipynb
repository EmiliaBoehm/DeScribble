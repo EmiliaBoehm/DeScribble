{
 "cells": [
  {
   "cell_type": "code",
   "execution_count": 1,
   "metadata": {},
   "outputs": [],
   "source": [
    "import logging\n",
    "import numpy as np\n",
    "from sklearn.metrics import precision_score, recall_score, roc_auc_score, roc_curve, accuracy_score, classification_report, confusion_matrix\n",
    "from transformers import AutoImageProcessor, DefaultDataCollator\n",
    "from transformers import AutoModelForImageClassification, TrainingArguments, Trainer\n",
    "from transformers import pipeline\n",
    "from torchvision.transforms import ToPILImage\n",
    "import matplotlib.pyplot as plt\n",
    "import evaluate\n",
    "import itertools\n",
    "import sys\n",
    "sys.path.append('../src')\n",
    "import datafeed as feed"
   ]
  },
  {
   "cell_type": "markdown",
   "metadata": {},
   "source": [
    "# Load Data"
   ]
  },
  {
   "cell_type": "code",
   "execution_count": 34,
   "metadata": {},
   "outputs": [],
   "source": [
    "ls = feed.get_image_list()\n",
    "#feed.collect_statistics(ls)\n",
    "ds = feed.get_dataset_with_transform(ls, feed.transform_vit)"
   ]
  },
  {
   "cell_type": "markdown",
   "metadata": {},
   "source": [
    "# Split Data"
   ]
  },
  {
   "cell_type": "code",
   "execution_count": 3,
   "metadata": {},
   "outputs": [
    {
     "data": {
      "text/plain": [
       "DatasetDict({\n",
       "    validation: Dataset({\n",
       "        features: ['label', 'image'],\n",
       "        num_rows: 355\n",
       "    })\n",
       "    test: Dataset({\n",
       "        features: ['label', 'image'],\n",
       "        num_rows: 288\n",
       "    })\n",
       "    train: Dataset({\n",
       "        features: ['label', 'image'],\n",
       "        num_rows: 2902\n",
       "    })\n",
       "})"
      ]
     },
     "execution_count": 3,
     "metadata": {},
     "output_type": "execute_result"
    }
   ],
   "source": [
    "ds_split = feed.split_dataset_train_test_validate(ds)\n",
    "ds_split"
   ]
  },
  {
   "cell_type": "markdown",
   "metadata": {},
   "source": [
    "# Initialize Model"
   ]
  },
  {
   "cell_type": "code",
   "execution_count": 4,
   "metadata": {},
   "outputs": [
    {
     "name": "stderr",
     "output_type": "stream",
     "text": [
      "Some weights of ViTForImageClassification were not initialized from the model checkpoint at google/vit-base-patch16-224-in21k and are newly initialized: ['classifier.weight', 'classifier.bias']\n",
      "You should probably TRAIN this model on a down-stream task to be able to use it for predictions and inference.\n"
     ]
    }
   ],
   "source": [
    "checkpoint = feed.CHECKPOINT_VIT_ONLINE\n",
    "processor = feed.get_processor(checkpoint)\n",
    "\n",
    "model = AutoModelForImageClassification.from_pretrained(\n",
    "    checkpoint,\n",
    "    num_labels=len(feed.id2label),\n",
    "    id2label=feed.id2label,\n",
    "    label2id=feed.label2id,\n",
    ")"
   ]
  },
  {
   "cell_type": "markdown",
   "metadata": {},
   "source": [
    "# Train Model"
   ]
  },
  {
   "cell_type": "code",
   "execution_count": 5,
   "metadata": {},
   "outputs": [],
   "source": [
    "data_collator = DefaultDataCollator()\n",
    "accuracy = evaluate.load(\"accuracy\")\n",
    "\n",
    "\n",
    "def compute_metrics(eval_pred):\n",
    "    predictions, labels = eval_pred\n",
    "    predictions = np.argmax(predictions, axis=1) # highest prediction per label index\n",
    "    return accuracy.compute(predictions=predictions, references=labels)"
   ]
  },
  {
   "cell_type": "markdown",
   "metadata": {},
   "source": [
    "Change the following cell to fine-tune the parameters. Note the first line which defines the name of the directoy under which the results will be saved after training. Check if this directory name is valid; e.g. check if saving the results would accidently overwrite previous models with different parameters."
   ]
  },
  {
   "cell_type": "code",
   "execution_count": 6,
   "metadata": {},
   "outputs": [],
   "source": [
    "MODEL_SAVE_DIR = \"vit-32-6\"   # ViT Model with batch size 32 and 6 epochs\n",
    "\n",
    "training_args = TrainingArguments(\n",
    "    output_dir=f\"./local_checkpoints/\",\n",
    "    remove_unused_columns=False,\n",
    "    evaluation_strategy=\"epoch\",\n",
    "    save_strategy=\"epoch\",\n",
    "    learning_rate=5e-5,\n",
    "    per_device_train_batch_size=32,\n",
    "    gradient_accumulation_steps=4,\n",
    "    per_device_eval_batch_size=16,\n",
    "    num_train_epochs=6,\n",
    "    warmup_ratio=0.1,\n",
    "    logging_steps=10,\n",
    "    load_best_model_at_end=True,\n",
    "    metric_for_best_model=\"accuracy\",\n",
    "    push_to_hub=False,\n",
    ")\n",
    "\n",
    "trainer = Trainer(\n",
    "    model=model,\n",
    "    args=training_args,\n",
    "    data_collator=data_collator,\n",
    "    train_dataset=ds_split[\"train\"],\n",
    "    eval_dataset=ds_split[\"test\"],\n",
    "    tokenizer=processor,\n",
    "    compute_metrics=compute_metrics,\n",
    ")\n"
   ]
  },
  {
   "cell_type": "markdown",
   "metadata": {},
   "source": [
    "**This cell can take hours:**"
   ]
  },
  {
   "cell_type": "code",
   "execution_count": 7,
   "metadata": {},
   "outputs": [
    {
     "data": {
      "application/vnd.jupyter.widget-view+json": {
       "model_id": "a11f01cbb5d74b05a44b4a14e9cca1a3",
       "version_major": 2,
       "version_minor": 0
      },
      "text/plain": [
       "  0%|          | 0/132 [00:00<?, ?it/s]"
      ]
     },
     "metadata": {},
     "output_type": "display_data"
    },
    {
     "name": "stdout",
     "output_type": "stream",
     "text": [
      "{'loss': 0.6867, 'learning_rate': 3.571428571428572e-05, 'epoch': 0.44}\n",
      "{'loss': 0.6461, 'learning_rate': 4.745762711864407e-05, 'epoch': 0.88}\n"
     ]
    },
    {
     "data": {
      "application/vnd.jupyter.widget-view+json": {
       "model_id": "c5d699dfbf4b4b39873d4c8b6a2e0276",
       "version_major": 2,
       "version_minor": 0
      },
      "text/plain": [
       "  0%|          | 0/18 [00:00<?, ?it/s]"
      ]
     },
     "metadata": {},
     "output_type": "display_data"
    },
    {
     "name": "stdout",
     "output_type": "stream",
     "text": [
      "{'eval_loss': 0.6607353687286377, 'eval_accuracy': 0.625, 'eval_runtime': 24.2388, 'eval_samples_per_second': 11.882, 'eval_steps_per_second': 0.743, 'epoch': 0.97}\n",
      "{'loss': 0.6064, 'learning_rate': 4.3220338983050854e-05, 'epoch': 1.32}\n",
      "{'loss': 0.6048, 'learning_rate': 3.898305084745763e-05, 'epoch': 1.76}\n"
     ]
    },
    {
     "data": {
      "application/vnd.jupyter.widget-view+json": {
       "model_id": "820d2b61ffb4470c94b6d671e0f65e77",
       "version_major": 2,
       "version_minor": 0
      },
      "text/plain": [
       "  0%|          | 0/18 [00:00<?, ?it/s]"
      ]
     },
     "metadata": {},
     "output_type": "display_data"
    },
    {
     "name": "stdout",
     "output_type": "stream",
     "text": [
      "{'eval_loss': 0.5971559286117554, 'eval_accuracy': 0.6770833333333334, 'eval_runtime': 23.6842, 'eval_samples_per_second': 12.16, 'eval_steps_per_second': 0.76, 'epoch': 1.98}\n",
      "{'loss': 0.5894, 'learning_rate': 3.474576271186441e-05, 'epoch': 2.2}\n",
      "{'loss': 0.5922, 'learning_rate': 3.050847457627119e-05, 'epoch': 2.64}\n"
     ]
    },
    {
     "data": {
      "application/vnd.jupyter.widget-view+json": {
       "model_id": "a614d3c1010046759327f7c469af251d",
       "version_major": 2,
       "version_minor": 0
      },
      "text/plain": [
       "  0%|          | 0/18 [00:00<?, ?it/s]"
      ]
     },
     "metadata": {},
     "output_type": "display_data"
    },
    {
     "name": "stdout",
     "output_type": "stream",
     "text": [
      "{'eval_loss': 0.5772931575775146, 'eval_accuracy': 0.7013888888888888, 'eval_runtime': 23.5318, 'eval_samples_per_second': 12.239, 'eval_steps_per_second': 0.765, 'epoch': 2.99}\n",
      "{'loss': 0.5555, 'learning_rate': 2.627118644067797e-05, 'epoch': 3.08}\n",
      "{'loss': 0.5599, 'learning_rate': 2.2033898305084748e-05, 'epoch': 3.52}\n",
      "{'loss': 0.5784, 'learning_rate': 1.7796610169491526e-05, 'epoch': 3.96}\n"
     ]
    },
    {
     "data": {
      "application/vnd.jupyter.widget-view+json": {
       "model_id": "837a0ad71a804a949d617cc851a918e7",
       "version_major": 2,
       "version_minor": 0
      },
      "text/plain": [
       "  0%|          | 0/18 [00:00<?, ?it/s]"
      ]
     },
     "metadata": {},
     "output_type": "display_data"
    },
    {
     "name": "stdout",
     "output_type": "stream",
     "text": [
      "{'eval_loss': 0.5877248048782349, 'eval_accuracy': 0.6493055555555556, 'eval_runtime': 23.6413, 'eval_samples_per_second': 12.182, 'eval_steps_per_second': 0.761, 'epoch': 4.0}\n",
      "{'loss': 0.5354, 'learning_rate': 1.3559322033898305e-05, 'epoch': 4.4}\n",
      "{'loss': 0.5492, 'learning_rate': 9.322033898305085e-06, 'epoch': 4.84}\n"
     ]
    },
    {
     "data": {
      "application/vnd.jupyter.widget-view+json": {
       "model_id": "37f630fd7a4847dda8560858756c782e",
       "version_major": 2,
       "version_minor": 0
      },
      "text/plain": [
       "  0%|          | 0/18 [00:00<?, ?it/s]"
      ]
     },
     "metadata": {},
     "output_type": "display_data"
    },
    {
     "name": "stdout",
     "output_type": "stream",
     "text": [
      "{'eval_loss': 0.5633439421653748, 'eval_accuracy': 0.7152777777777778, 'eval_runtime': 23.7163, 'eval_samples_per_second': 12.144, 'eval_steps_per_second': 0.759, 'epoch': 4.97}\n",
      "{'loss': 0.5264, 'learning_rate': 5.084745762711865e-06, 'epoch': 5.27}\n",
      "{'loss': 0.5491, 'learning_rate': 8.474576271186441e-07, 'epoch': 5.71}\n"
     ]
    },
    {
     "data": {
      "application/vnd.jupyter.widget-view+json": {
       "model_id": "885d03c5395745f480b9167a1606d51c",
       "version_major": 2,
       "version_minor": 0
      },
      "text/plain": [
       "  0%|          | 0/18 [00:00<?, ?it/s]"
      ]
     },
     "metadata": {},
     "output_type": "display_data"
    },
    {
     "name": "stdout",
     "output_type": "stream",
     "text": [
      "{'eval_loss': 0.5665701627731323, 'eval_accuracy': 0.7152777777777778, 'eval_runtime': 23.7568, 'eval_samples_per_second': 12.123, 'eval_steps_per_second': 0.758, 'epoch': 5.8}\n",
      "{'train_runtime': 4296.8054, 'train_samples_per_second': 4.052, 'train_steps_per_second': 0.031, 'train_loss': 0.5820643432212599, 'epoch': 5.8}\n"
     ]
    }
   ],
   "source": [
    "\n",
    "train_results=trainer.train()"
   ]
  },
  {
   "cell_type": "code",
   "execution_count": 39,
   "metadata": {},
   "outputs": [
    {
     "data": {
      "application/vnd.jupyter.widget-view+json": {
       "model_id": "ec8a3f2816e9495eb6c45c65e89f2a73",
       "version_major": 2,
       "version_minor": 0
      },
      "text/plain": [
       "  0%|          | 0/18 [00:00<?, ?it/s]"
      ]
     },
     "metadata": {},
     "output_type": "display_data"
    },
    {
     "data": {
      "text/plain": [
       "{'eval_loss': 0.5964696407318115,\n",
       " 'eval_accuracy': 0.6527777777777778,\n",
       " 'eval_runtime': 23.3199,\n",
       " 'eval_samples_per_second': 12.35,\n",
       " 'eval_steps_per_second': 0.772,\n",
       " 'epoch': 5.8}"
      ]
     },
     "execution_count": 39,
     "metadata": {},
     "output_type": "execute_result"
    }
   ],
   "source": [
    "trainer.evaluate()"
   ]
  },
  {
   "cell_type": "code",
   "execution_count": 41,
   "metadata": {},
   "outputs": [
    {
     "data": {
      "application/vnd.jupyter.widget-view+json": {
       "model_id": "3a85888778334010aa57a3c3a8ead30f",
       "version_major": 2,
       "version_minor": 0
      },
      "text/plain": [
       "  0%|          | 0/23 [00:00<?, ?it/s]"
      ]
     },
     "metadata": {},
     "output_type": "display_data"
    },
    {
     "data": {
      "text/plain": [
       "{'eval_loss': 0.601269006729126,\n",
       " 'eval_accuracy': 0.6816901408450704,\n",
       " 'eval_runtime': 28.586,\n",
       " 'eval_samples_per_second': 12.419,\n",
       " 'eval_steps_per_second': 0.805,\n",
       " 'epoch': 5.8}"
      ]
     },
     "execution_count": 41,
     "metadata": {},
     "output_type": "execute_result"
    }
   ],
   "source": [
    "trainer.evaluate(eval_dataset=ds_split['validation'])"
   ]
  },
  {
   "cell_type": "code",
   "execution_count": 42,
   "metadata": {},
   "outputs": [
    {
     "data": {
      "application/vnd.jupyter.widget-view+json": {
       "model_id": "4062cf1b7e1c48f49b904a931bfde15f",
       "version_major": 2,
       "version_minor": 0
      },
      "text/plain": [
       "  0%|          | 0/23 [00:00<?, ?it/s]"
      ]
     },
     "metadata": {},
     "output_type": "display_data"
    },
    {
     "data": {
      "text/plain": [
       "PredictionOutput(predictions=array([[-0.45727688,  0.39374343],\n",
       "       [ 0.19372267, -0.40982282],\n",
       "       [-0.45725194,  0.3842692 ],\n",
       "       [-0.33426622,  0.19398004],\n",
       "       [-0.27707326,  0.25142244],\n",
       "       [-0.07052396, -0.1930378 ],\n",
       "       [ 0.04972164, -0.25155026],\n",
       "       [-0.59427726,  0.5436399 ],\n",
       "       [ 0.01345248, -0.26816756],\n",
       "       [-0.18235205,  0.02675513],\n",
       "       [-0.04115207, -0.19526823],\n",
       "       [ 0.42058393, -0.67936426],\n",
       "       [ 0.3364772 , -0.6116127 ],\n",
       "       [-0.62883484,  0.72885936],\n",
       "       [-0.7444541 ,  0.8014414 ],\n",
       "       [ 0.35695732, -0.52664196],\n",
       "       [-0.46527618,  0.4616736 ],\n",
       "       [-0.6018098 ,  0.66557527],\n",
       "       [ 0.18824115, -0.36064586],\n",
       "       [-0.6143384 ,  0.34624022],\n",
       "       [ 0.11123888, -0.3578469 ],\n",
       "       [-0.6063022 ,  0.56417483],\n",
       "       [-0.0026225 , -0.27700022],\n",
       "       [ 0.11617779, -0.10700905],\n",
       "       [ 0.6356916 , -0.6343152 ],\n",
       "       [ 0.7863762 , -0.8869826 ],\n",
       "       [ 0.39358395, -0.5815444 ],\n",
       "       [ 0.19098374, -0.49058744],\n",
       "       [-0.82518405,  0.8479855 ],\n",
       "       [-0.3036356 ,  0.4496872 ],\n",
       "       [-0.6665979 ,  0.37207374],\n",
       "       [ 0.5178924 , -0.7698953 ],\n",
       "       [ 0.6886953 , -0.9338803 ],\n",
       "       [-0.35670865,  0.11219296],\n",
       "       [ 0.02148421, -0.11877725],\n",
       "       [ 0.52653986, -0.54657537],\n",
       "       [ 0.21653064, -0.4968755 ],\n",
       "       [ 0.4201408 , -0.64443177],\n",
       "       [-0.10792638, -0.12234535],\n",
       "       [ 0.7213481 , -0.73530203],\n",
       "       [ 0.6064214 , -0.8367102 ],\n",
       "       [-0.34023964,  0.1733877 ],\n",
       "       [-0.7027148 ,  0.5344841 ],\n",
       "       [ 0.5383617 , -0.61066025],\n",
       "       [ 0.8974013 , -0.92835873],\n",
       "       [-0.47251728,  0.46154782],\n",
       "       [ 0.47897738, -0.58992755],\n",
       "       [ 0.11926391, -0.2952698 ],\n",
       "       [ 0.81058174, -1.0123588 ],\n",
       "       [-0.13540547, -0.077114  ],\n",
       "       [ 0.19656637, -0.41610643],\n",
       "       [-0.63766867,  0.5107043 ],\n",
       "       [ 0.66514015, -0.7678661 ],\n",
       "       [ 0.42542836, -0.59734523],\n",
       "       [-0.6734688 ,  0.734808  ],\n",
       "       [ 0.49836835, -0.8191661 ],\n",
       "       [-0.46344447,  0.3227328 ],\n",
       "       [-0.60637337,  0.58425033],\n",
       "       [-0.10539359,  0.32054147],\n",
       "       [ 0.05247622, -0.21821818],\n",
       "       [-0.44298705,  0.37798327],\n",
       "       [ 0.6564494 , -0.5181903 ],\n",
       "       [-0.2802631 ,  0.24205127],\n",
       "       [ 0.7038904 , -0.87556154],\n",
       "       [ 0.33362225, -0.52322197],\n",
       "       [-0.6576274 ,  0.5827171 ],\n",
       "       [-0.07246861, -0.06593394],\n",
       "       [-0.2970489 ,  0.0146517 ],\n",
       "       [ 0.12429371, -0.3882943 ],\n",
       "       [ 0.8970677 , -0.9075688 ],\n",
       "       [ 0.16001913, -0.25601333],\n",
       "       [ 0.681988  , -0.72954005],\n",
       "       [-0.40560398,  0.12132981],\n",
       "       [ 0.29343435, -0.689042  ],\n",
       "       [ 0.75641674, -0.92841184],\n",
       "       [-0.68391365,  0.71420175],\n",
       "       [-0.13102129, -0.16116524],\n",
       "       [-0.25041428,  0.15431882],\n",
       "       [ 0.7901141 , -0.8871402 ],\n",
       "       [-0.6600296 ,  0.5499739 ],\n",
       "       [ 0.4119738 , -0.64560294],\n",
       "       [-0.40152413,  0.22339293],\n",
       "       [ 0.03866114, -0.22722346],\n",
       "       [ 0.66850454, -0.7455104 ],\n",
       "       [-0.38780445,  0.20991087],\n",
       "       [-0.50660324,  0.5690732 ],\n",
       "       [-0.38190886,  0.19488901],\n",
       "       [ 0.11039903, -0.2827044 ],\n",
       "       [ 0.6533945 , -0.6975598 ],\n",
       "       [ 0.12867492, -0.30228585],\n",
       "       [ 0.6483053 , -0.62415725],\n",
       "       [ 0.73446697, -0.67048967],\n",
       "       [-0.02788628, -0.19804575],\n",
       "       [ 0.3537205 , -0.6203869 ],\n",
       "       [-0.5470802 ,  0.42291358],\n",
       "       [-0.29903182, -0.13029936],\n",
       "       [-0.3430247 ,  0.24372807],\n",
       "       [-1.0100431 ,  0.9900116 ],\n",
       "       [ 0.71373576, -0.9070517 ],\n",
       "       [-0.65804374,  0.5129396 ],\n",
       "       [ 0.16819476, -0.44249955],\n",
       "       [-0.9196866 ,  0.72880733],\n",
       "       [-0.02331602, -0.07632276],\n",
       "       [ 0.23805387, -0.49814323],\n",
       "       [-0.26310188,  0.11523084],\n",
       "       [ 0.14248392, -0.44329372],\n",
       "       [-0.83068174,  0.85900337],\n",
       "       [ 0.0217415 , -0.23214415],\n",
       "       [-0.33582184,  0.27332458],\n",
       "       [-0.34668094,  0.17319205],\n",
       "       [ 0.12669134, -0.4053497 ],\n",
       "       [ 0.8589158 , -0.7681471 ],\n",
       "       [ 0.67570007, -0.8009772 ],\n",
       "       [ 0.20281577, -0.37782958],\n",
       "       [ 0.49786296, -0.79761297],\n",
       "       [ 0.36382052, -0.41514477],\n",
       "       [-0.06725428, -0.11116871],\n",
       "       [ 0.1960902 , -0.3133803 ],\n",
       "       [-0.6141475 ,  0.64632726],\n",
       "       [ 0.2173102 , -0.31145245],\n",
       "       [-0.3558933 ,  0.10104761],\n",
       "       [ 1.0188432 , -1.0411068 ],\n",
       "       [-0.69100815,  0.7262732 ],\n",
       "       [-0.11893432, -0.23422436],\n",
       "       [ 0.06004576, -0.39806756],\n",
       "       [-0.8000109 ,  0.8922295 ],\n",
       "       [-0.9800914 ,  0.85256773],\n",
       "       [ 0.794985  , -0.9795992 ],\n",
       "       [-0.2530383 ,  0.15315995],\n",
       "       [ 0.03042185, -0.30541214],\n",
       "       [ 0.6707521 , -0.71462625],\n",
       "       [ 0.48405537, -0.63182694],\n",
       "       [-0.4520428 ,  0.35896048],\n",
       "       [-0.213497  , -0.04777018],\n",
       "       [-0.02797991, -0.23707765],\n",
       "       [ 0.39820948, -0.5563167 ],\n",
       "       [-0.81758606,  0.7321649 ],\n",
       "       [-0.55187184,  0.46526077],\n",
       "       [-0.11715595, -0.10486716],\n",
       "       [-0.54339445,  0.4084274 ],\n",
       "       [-0.51991326,  0.1783921 ],\n",
       "       [ 0.8835558 , -1.0364573 ],\n",
       "       [-0.46286216,  0.26507834],\n",
       "       [-0.42705068,  0.24809813],\n",
       "       [-0.14346889,  0.01473176],\n",
       "       [-0.12528029, -0.2983307 ],\n",
       "       [-0.5157277 ,  0.4619455 ],\n",
       "       [-0.6324834 ,  0.623092  ],\n",
       "       [-0.90068156,  0.8319454 ],\n",
       "       [ 0.02081035, -0.31473807],\n",
       "       [-0.17565732,  0.09091072],\n",
       "       [-0.5076775 ,  0.24883512],\n",
       "       [ 0.15038055, -0.30071154],\n",
       "       [ 0.01600921, -0.11581721],\n",
       "       [-0.70098263,  0.53787327],\n",
       "       [ 0.86231524, -1.0059667 ],\n",
       "       [-0.35794318,  0.37972376],\n",
       "       [-0.0640042 , -0.08871362],\n",
       "       [ 0.4198052 , -0.52844816],\n",
       "       [ 0.58874017, -0.82976   ],\n",
       "       [-0.4064328 ,  0.2056599 ],\n",
       "       [-0.6809368 ,  0.6819163 ],\n",
       "       [ 0.40642077, -0.63820904],\n",
       "       [ 0.59161186, -0.77888733],\n",
       "       [-0.25682497,  0.11851995],\n",
       "       [-0.25165364,  0.08678144],\n",
       "       [ 0.33017156, -0.5216169 ],\n",
       "       [-0.25362286, -0.01422551],\n",
       "       [ 0.6410059 , -0.78785425],\n",
       "       [-0.68395406,  0.59014356],\n",
       "       [-0.8136447 ,  0.9212057 ],\n",
       "       [ 0.5307749 , -0.71862394],\n",
       "       [ 0.36704564, -0.44808152],\n",
       "       [ 0.5799398 , -0.77798826],\n",
       "       [-0.2823894 ,  0.17054357],\n",
       "       [ 0.14006272, -0.3311575 ],\n",
       "       [-0.5462102 ,  0.301577  ],\n",
       "       [-0.51232135,  0.3726267 ],\n",
       "       [-0.83333987,  0.6459745 ],\n",
       "       [-0.06872737, -0.03884474],\n",
       "       [-0.43163565,  0.19826455],\n",
       "       [-0.9049961 ,  0.8799023 ],\n",
       "       [ 0.02391163, -0.2763126 ],\n",
       "       [-0.20727514,  0.20141524],\n",
       "       [ 0.04792688, -0.25071383],\n",
       "       [-0.1590513 ,  0.00293732],\n",
       "       [ 0.35481247, -0.62289816],\n",
       "       [-0.7517552 ,  0.7938553 ],\n",
       "       [ 0.8704812 , -0.8878976 ],\n",
       "       [-0.6235958 ,  0.81182605],\n",
       "       [-0.4540746 ,  0.33465782],\n",
       "       [-0.15751088, -0.06104269],\n",
       "       [-0.41820672,  0.19644907],\n",
       "       [-0.19594523,  0.09212396],\n",
       "       [-0.9409626 ,  0.7181576 ],\n",
       "       [ 0.42197624, -0.46582982],\n",
       "       [-0.14352152, -0.01927866],\n",
       "       [ 0.0187539 , -0.19937249],\n",
       "       [-0.9039822 ,  0.8341239 ],\n",
       "       [-0.79656494,  0.73490685],\n",
       "       [-0.7930616 ,  0.6985356 ],\n",
       "       [ 0.2451832 , -0.5257902 ],\n",
       "       [-0.18022276,  0.03572284],\n",
       "       [ 0.3099813 , -0.58315355],\n",
       "       [-0.00740957, -0.1705344 ],\n",
       "       [-0.06469825, -0.10671465],\n",
       "       [-0.17749137,  0.05832193],\n",
       "       [-0.52200043,  0.45833668],\n",
       "       [ 0.64042753, -0.8730806 ],\n",
       "       [ 0.3520995 , -0.71589774],\n",
       "       [ 0.31384164, -0.4975462 ],\n",
       "       [-0.928543  ,  0.66127175],\n",
       "       [-0.8158695 ,  0.725205  ],\n",
       "       [-0.6080515 ,  0.57552844],\n",
       "       [ 0.19596787, -0.38263136],\n",
       "       [ 0.12610522, -0.11494105],\n",
       "       [ 0.54488   , -0.84825224],\n",
       "       [ 0.3251241 , -0.38651922],\n",
       "       [-0.372668  ,  0.33316258],\n",
       "       [ 0.9390728 , -0.90253514],\n",
       "       [-0.12379488,  0.01416887],\n",
       "       [-0.26754954,  0.02477399],\n",
       "       [-0.04527824, -0.2539272 ],\n",
       "       [ 0.14862993, -0.41529706],\n",
       "       [ 0.39996773, -0.5568811 ],\n",
       "       [ 0.7058824 , -0.86656   ],\n",
       "       [ 0.18789655, -0.5027147 ],\n",
       "       [ 0.41700548, -0.55801433],\n",
       "       [-0.15169546,  0.01624055],\n",
       "       [ 0.6805342 , -0.67995185],\n",
       "       [ 0.67523044, -0.73281324],\n",
       "       [ 0.7856719 , -0.8602081 ],\n",
       "       [-0.21557403,  0.04003819],\n",
       "       [-0.25260174,  0.23123544],\n",
       "       [-0.11307557, -0.07306449],\n",
       "       [ 0.00364868, -0.11913104],\n",
       "       [-0.459197  ,  0.4108716 ],\n",
       "       [-0.24002984,  0.08736981],\n",
       "       [-0.00207937, -0.0828507 ],\n",
       "       [ 0.23064664, -0.41671088],\n",
       "       [-0.06470677, -0.03463619],\n",
       "       [-0.13793248,  0.23703323],\n",
       "       [ 0.60894233, -0.6435351 ],\n",
       "       [-0.6129519 ,  0.6199799 ],\n",
       "       [-0.7666964 ,  0.90100425],\n",
       "       [ 0.1244953 , -0.40965316],\n",
       "       [ 0.8167375 , -0.84617454],\n",
       "       [-0.00629977, -0.3789228 ],\n",
       "       [ 0.1237487 , -0.2529042 ],\n",
       "       [-1.048316  ,  0.87190455],\n",
       "       [-0.8030531 ,  0.9227281 ],\n",
       "       [-0.628527  ,  0.4497899 ],\n",
       "       [-0.06296049, -0.16308826],\n",
       "       [ 0.34244332, -0.4770722 ],\n",
       "       [ 0.16963682, -0.3145182 ],\n",
       "       [-0.5199351 ,  0.64954966],\n",
       "       [-0.19932158,  0.22864509],\n",
       "       [-0.95065635,  0.94452566],\n",
       "       [-0.471364  ,  0.24180256],\n",
       "       [ 0.5661509 , -0.699502  ],\n",
       "       [ 0.03942192, -0.19372536],\n",
       "       [-0.19603148,  0.03407166],\n",
       "       [-0.69345385,  0.48638758],\n",
       "       [ 0.5554789 , -0.7630051 ],\n",
       "       [ 0.54444134, -0.86759204],\n",
       "       [ 0.6089765 , -0.73615134],\n",
       "       [-0.8075155 ,  0.7627867 ],\n",
       "       [-0.19926724, -0.04716335],\n",
       "       [-0.06550908, -0.18836117],\n",
       "       [ 0.80921924, -0.8997064 ],\n",
       "       [ 1.0284228 , -1.0338415 ],\n",
       "       [ 0.20310108, -0.2991307 ],\n",
       "       [-0.4583007 ,  0.31207827],\n",
       "       [-0.62867326,  0.5619031 ],\n",
       "       [ 0.46771172, -0.59129494],\n",
       "       [ 0.20470656, -0.11501349],\n",
       "       [-0.19886008, -0.07197543],\n",
       "       [ 0.36940017, -0.49632037],\n",
       "       [-0.17159021,  0.04980817],\n",
       "       [ 0.6830134 , -0.80208045],\n",
       "       [ 0.7330653 , -0.8408985 ],\n",
       "       [ 0.2236979 , -0.46014383],\n",
       "       [-0.4441874 ,  0.62538916],\n",
       "       [ 0.2898245 , -0.5873156 ],\n",
       "       [-0.6485796 ,  0.5228452 ],\n",
       "       [-0.95049614,  0.9667159 ],\n",
       "       [-0.06837578, -0.26213178],\n",
       "       [-0.93875784,  0.7994867 ],\n",
       "       [ 0.75174636, -0.8237141 ],\n",
       "       [ 0.22504422, -0.49892125],\n",
       "       [-0.4188405 ,  0.2618455 ],\n",
       "       [ 0.32196295, -0.56259453],\n",
       "       [-0.11108943,  0.00694277],\n",
       "       [-0.2988259 ,  0.3021795 ],\n",
       "       [ 0.5964884 , -0.7343945 ],\n",
       "       [-0.30294374, -0.01064668],\n",
       "       [ 0.26721254, -0.42552826],\n",
       "       [ 0.8773863 , -0.92692685],\n",
       "       [-0.42103454,  0.32911956],\n",
       "       [ 0.6449451 , -0.679923  ],\n",
       "       [-0.14615518, -0.00604114],\n",
       "       [ 0.291015  , -0.40291634],\n",
       "       [-0.40390995,  0.2968531 ],\n",
       "       [-0.00701849, -0.20683892],\n",
       "       [ 0.5138051 , -0.6405439 ],\n",
       "       [ 0.00924293, -0.4554454 ],\n",
       "       [ 0.82741004, -0.96855164],\n",
       "       [-0.6566101 ,  0.51467174],\n",
       "       [-0.4116306 ,  0.32804003],\n",
       "       [ 0.6844431 , -0.9187413 ],\n",
       "       [ 0.4270204 , -0.67008275],\n",
       "       [-0.03897147, -0.32559144],\n",
       "       [ 0.5929744 , -0.75812507],\n",
       "       [ 0.79079914, -0.7953246 ],\n",
       "       [-0.28558594,  0.2259534 ],\n",
       "       [ 0.29416245, -0.40390083],\n",
       "       [ 0.26871923, -0.38459435],\n",
       "       [-0.54518056,  0.44883734],\n",
       "       [-0.34307724,  0.10287844],\n",
       "       [-0.43614388,  0.302441  ],\n",
       "       [-0.78436184,  0.6971254 ],\n",
       "       [ 0.46920666, -0.61674696],\n",
       "       [ 0.70596045, -0.7380714 ],\n",
       "       [ 0.31240493, -0.397191  ],\n",
       "       [-0.00614232, -0.2977359 ],\n",
       "       [ 0.27539614, -0.5375939 ],\n",
       "       [-0.5366586 ,  0.29711452],\n",
       "       [-0.17013785, -0.07248803],\n",
       "       [-0.15440588, -0.0014743 ],\n",
       "       [ 0.07886919, -0.11831595],\n",
       "       [ 0.90519863, -1.0128963 ],\n",
       "       [ 0.49672475, -0.6750242 ],\n",
       "       [-0.18676192, -0.01707268],\n",
       "       [-0.36818343,  0.1288071 ],\n",
       "       [ 0.38439947, -0.6783669 ],\n",
       "       [-0.71876526,  0.8291301 ],\n",
       "       [-0.45996144,  0.4295421 ],\n",
       "       [ 0.28483805, -0.43734992],\n",
       "       [ 0.8338315 , -1.0239613 ],\n",
       "       [ 0.9132101 , -1.0133201 ],\n",
       "       [-0.8902583 ,  0.7100931 ],\n",
       "       [ 0.7119656 , -0.8437598 ],\n",
       "       [-0.40553865,  0.10325138],\n",
       "       [ 0.45736232, -0.4677038 ],\n",
       "       [ 0.78058285, -0.9996404 ],\n",
       "       [-0.40078792,  0.322984  ],\n",
       "       [ 0.1811498 , -0.26443276],\n",
       "       [-0.6508388 ,  0.5396339 ],\n",
       "       [ 0.12606876, -0.19189438],\n",
       "       [ 0.04521306, -0.06773798],\n",
       "       [-0.27449116,  0.0586281 ],\n",
       "       [ 0.6859537 , -0.86381245],\n",
       "       [ 0.6210242 , -0.5138909 ],\n",
       "       [ 0.20547229, -0.40231937],\n",
       "       [ 0.22727555, -0.59090847]], dtype=float32), label_ids=array([1, 1, 1, 1, 1, 1, 0, 0, 0, 1, 1, 0, 1, 1, 1, 1, 0, 1, 0, 1, 1, 1,\n",
       "       0, 0, 0, 0, 0, 0, 1, 1, 1, 0, 0, 1, 0, 0, 1, 0, 1, 0, 0, 0, 1, 0,\n",
       "       0, 0, 1, 0, 0, 1, 1, 1, 0, 0, 1, 0, 1, 0, 1, 1, 1, 0, 1, 0, 0, 1,\n",
       "       1, 1, 0, 0, 0, 0, 1, 0, 0, 1, 0, 1, 1, 0, 1, 1, 0, 1, 0, 1, 0, 1,\n",
       "       1, 1, 0, 0, 0, 1, 0, 0, 1, 1, 0, 1, 0, 1, 1, 0, 0, 0, 0, 0, 1, 0,\n",
       "       0, 0, 0, 1, 1, 1, 0, 1, 1, 0, 0, 0, 1, 0, 0, 1, 1, 0, 1, 0, 0, 1,\n",
       "       1, 0, 0, 0, 1, 1, 1, 1, 1, 0, 0, 1, 0, 1, 0, 1, 1, 0, 0, 1, 1, 0,\n",
       "       0, 0, 0, 1, 0, 0, 0, 1, 0, 0, 1, 0, 0, 1, 0, 1, 1, 0, 0, 0, 0, 0,\n",
       "       1, 1, 1, 0, 0, 1, 0, 1, 1, 1, 0, 0, 0, 1, 1, 1, 1, 1, 1, 0, 1, 0,\n",
       "       1, 1, 0, 0, 0, 0, 0, 1, 0, 0, 0, 1, 0, 1, 1, 1, 0, 0, 0, 0, 1, 0,\n",
       "       1, 1, 1, 0, 0, 0, 1, 0, 1, 1, 0, 1, 1, 0, 0, 1, 1, 0, 0, 1, 0, 0,\n",
       "       1, 1, 1, 0, 0, 1, 0, 1, 1, 1, 0, 0, 1, 1, 1, 1, 0, 0, 1, 0, 1, 0,\n",
       "       0, 0, 1, 1, 0, 1, 0, 0, 0, 0, 0, 0, 0, 1, 1, 0, 0, 0, 0, 1, 1, 1,\n",
       "       0, 1, 0, 0, 1, 0, 1, 1, 0, 1, 0, 0, 0, 1, 0, 1, 1, 0, 0, 0, 0, 1,\n",
       "       1, 0, 0, 0, 0, 0, 1, 0, 0, 1, 1, 1, 1, 0, 0, 1, 0, 0, 1, 0, 0, 1,\n",
       "       0, 0, 1, 1, 1, 1, 0, 0, 0, 0, 1, 0, 1, 0, 0, 1, 0, 1, 0, 1, 1, 0,\n",
       "       0, 0, 0]), metrics={'test_loss': 0.5549241900444031, 'test_accuracy': 0.7295774647887324, 'test_runtime': 28.7227, 'test_samples_per_second': 12.36, 'test_steps_per_second': 0.801})"
      ]
     },
     "execution_count": 42,
     "metadata": {},
     "output_type": "execute_result"
    }
   ],
   "source": [
    "trainer.predict(test_dataset=ds_split['validation'])"
   ]
  },
  {
   "cell_type": "markdown",
   "metadata": {},
   "source": [
    "# Save Model"
   ]
  },
  {
   "cell_type": "code",
   "execution_count": 8,
   "metadata": {},
   "outputs": [
    {
     "name": "stdout",
     "output_type": "stream",
     "text": [
      "***** train metrics *****\n",
      "  epoch                    =        5.8\n",
      "  train_loss               =     0.5821\n",
      "  train_runtime            = 1:11:36.80\n",
      "  train_samples_per_second =      4.052\n",
      "  train_steps_per_second   =      0.031\n",
      "***** test metrics *****\n",
      "  epoch                    =        5.8\n",
      "  train_loss               =     0.5821\n",
      "  train_runtime            = 1:11:36.80\n",
      "  train_samples_per_second =      4.052\n",
      "  train_steps_per_second   =      0.031\n"
     ]
    }
   ],
   "source": [
    "trainer.save_model(MODEL_SAVE_DIR)                   # Will save the model, so you can reload it using from_pretrained().\n",
    "trainer.log_metrics(\"train\", train_results.metrics)  \n",
    "trainer.log_metrics(\"test\", train_results.metrics)  \n",
    "trainer.save_metrics(\"train\", train_results.metrics) # save metrics into a .json file\n",
    "trainer.save_state()"
   ]
  },
  {
   "cell_type": "markdown",
   "metadata": {},
   "source": [
    "# Get Predictions for Evaluation Metrics"
   ]
  },
  {
   "cell_type": "markdown",
   "metadata": {},
   "source": [
    "**Warning**: Untested code "
   ]
  },
  {
   "cell_type": "code",
   "execution_count": 21,
   "metadata": {},
   "outputs": [],
   "source": [
    "classifier = pipeline(\"image-classification\", model=model, image_processor=processor)\n",
    "\n",
    "def get_pred_and_probablities(ds):\n",
    "    \"\"\"Return all predicitions and probabilities for DS.\"\"\"\n",
    "    images = []\n",
    "    y_pred = []\n",
    "    y_prob = []\n",
    "    for row in ds:\n",
    "        images += [ ToPILImage()(row['pixel_values']) ]  # Convert tensor to PIL Image\n",
    "    for img in images:\n",
    "        pred = classifier(img)  # returns an array of dicts {'label', 'score'}\n",
    "        y_pred.append(feed.label2id[pred[0]['label']]) # add first label as predicted label\n",
    "        y_prob.append(pred[0]['score']) # add first score as predicted score\n",
    "\n",
    "    return (np.array(y_pred), np.array(y_prob))\n",
    "\n",
    "y_pred, y_prob = get_pred_and_probablities(ds_split['validation'])\n",
    "y_true = np.array([row['label'] for row in ds_split['validation']])\n"
   ]
  },
  {
   "cell_type": "code",
   "execution_count": 33,
   "metadata": {},
   "outputs": [],
   "source": [
    "import pandas as pd\n",
    "from datetime import datetime\n",
    "\n",
    "now = datetime.now().strftime(\"%H:%M\")\n",
    "\n",
    "# list(zip([1,2],[3,4],[5,6])) # -> [(1, 3, 5), (2, 4, 6)]\n",
    "df = pd.DataFrame([ (true, pred, prob) for (true, pred, prob)  in zip(y_true, y_pred,y_prob)],\n",
    "                  columns = [\"true\", \"pred\", \"prob\"])\n",
    "\n",
    "df.to_csv(f\"../data/{MODEL_SAVE_DIR}-{now}.csv\", index=False, header=True)\n",
    "\n"
   ]
  },
  {
   "cell_type": "code",
   "execution_count": 22,
   "metadata": {},
   "outputs": [
    {
     "data": {
      "text/plain": [
       "array([[137,  54],\n",
       "       [ 54, 110]])"
      ]
     },
     "execution_count": 22,
     "metadata": {},
     "output_type": "execute_result"
    }
   ],
   "source": [
    "confusion_matrix(y_pred, y_true)"
   ]
  },
  {
   "cell_type": "code",
   "execution_count": 23,
   "metadata": {},
   "outputs": [
    {
     "data": {
      "text/plain": [
       "0.6957746478873239"
      ]
     },
     "execution_count": 23,
     "metadata": {},
     "output_type": "execute_result"
    }
   ],
   "source": [
    "accuracy_score(y_true, y_pred)"
   ]
  }
 ],
 "metadata": {
  "kernelspec": {
   "display_name": ".venv",
   "language": "python",
   "name": "python3"
  },
  "language_info": {
   "codemirror_mode": {
    "name": "ipython",
    "version": 3
   },
   "file_extension": ".py",
   "mimetype": "text/x-python",
   "name": "python",
   "nbconvert_exporter": "python",
   "pygments_lexer": "ipython3",
   "version": "3.11.6"
  }
 },
 "nbformat": 4,
 "nbformat_minor": 2
}
