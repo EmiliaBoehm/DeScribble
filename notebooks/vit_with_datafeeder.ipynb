{
 "cells": [
  {
   "cell_type": "code",
   "execution_count": 8,
   "metadata": {},
   "outputs": [],
   "source": [
    "import logging\n",
    "import numpy as np\n",
    "from sklearn.metrics import precision_score, recall_score, roc_auc_score, roc_curve, accuracy_score, classification_report, confusion_matrix\n",
    "from transformers import AutoImageProcessor, DefaultDataCollator\n",
    "from transformers import AutoModelForImageClassification, TrainingArguments, Trainer\n",
    "from transformers import pipeline\n",
    "from torchvision.transforms import ToPILImage\n",
    "import matplotlib.pyplot as plt\n",
    "import evaluate\n",
    "import itertools\n",
    "import sys\n",
    "sys.path.append('../src')\n",
    "import datafeed as feed"
   ]
  },
  {
   "cell_type": "markdown",
   "metadata": {},
   "source": [
    "# Load Data"
   ]
  },
  {
   "cell_type": "code",
   "execution_count": 4,
   "metadata": {},
   "outputs": [],
   "source": [
    "ls = feed.get_image_list()\n",
    "#feed.collect_statistics(ls)\n",
    "ds = feed.get_dataset_with_transform(ls, feed.transform_vit)"
   ]
  },
  {
   "cell_type": "markdown",
   "metadata": {},
   "source": [
    "# Split Data"
   ]
  },
  {
   "cell_type": "code",
   "execution_count": 5,
   "metadata": {},
   "outputs": [
    {
     "data": {
      "text/plain": [
       "DatasetDict({\n",
       "    validation: Dataset({\n",
       "        features: ['label', 'image'],\n",
       "        num_rows: 355\n",
       "    })\n",
       "    test: Dataset({\n",
       "        features: ['label', 'image'],\n",
       "        num_rows: 288\n",
       "    })\n",
       "    train: Dataset({\n",
       "        features: ['label', 'image'],\n",
       "        num_rows: 2902\n",
       "    })\n",
       "})"
      ]
     },
     "execution_count": 5,
     "metadata": {},
     "output_type": "execute_result"
    }
   ],
   "source": [
    "ds_split = feed.split_dataset_train_test_validate(ds)\n",
    "ds_split"
   ]
  },
  {
   "cell_type": "markdown",
   "metadata": {},
   "source": [
    "# Initialize Model"
   ]
  },
  {
   "cell_type": "code",
   "execution_count": 13,
   "metadata": {},
   "outputs": [
    {
     "name": "stderr",
     "output_type": "stream",
     "text": [
      "Some weights of ViTForImageClassification were not initialized from the model checkpoint at google/vit-base-patch16-224-in21k and are newly initialized: ['classifier.weight', 'classifier.bias']\n",
      "You should probably TRAIN this model on a down-stream task to be able to use it for predictions and inference.\n"
     ]
    }
   ],
   "source": [
    "checkpoint = feed.CHECKPOINT_VIT_ONLINE\n",
    "processor = feed.get_processor(checkpoint)\n",
    "\n",
    "model = AutoModelForImageClassification.from_pretrained(\n",
    "    checkpoint,\n",
    "    num_labels=len(feed.id2label),\n",
    "    id2label=feed.id2label,\n",
    "    label2id=feed.label2id,\n",
    ")"
   ]
  },
  {
   "cell_type": "markdown",
   "metadata": {},
   "source": [
    "# Train Model"
   ]
  },
  {
   "cell_type": "code",
   "execution_count": 10,
   "metadata": {},
   "outputs": [],
   "source": [
    "data_collator = DefaultDataCollator()\n",
    "accuracy = evaluate.load(\"accuracy\")\n",
    "\n",
    "\n",
    "def compute_metrics(eval_pred):\n",
    "    predictions, labels = eval_pred\n",
    "    predictions = np.argmax(predictions, axis=1) # highest prediction per label index\n",
    "    return accuracy.compute(predictions=predictions, references=labels)"
   ]
  },
  {
   "cell_type": "markdown",
   "metadata": {},
   "source": [
    "Change the following cell to fine-tune the parameters. Note the first line which defines the name of the directoy under which the results will be saved after training. Check if this directory name is valid; e.g. check if saving the results would accidently overwrite previous models with different parameters."
   ]
  },
  {
   "cell_type": "code",
   "execution_count": 16,
   "metadata": {},
   "outputs": [],
   "source": [
    "MODEL_SAVE_DIR = \"vit-16\"   # ViT Model with batch size 16\n",
    "\n",
    "training_args = TrainingArguments(\n",
    "    output_dir=f\"./local_checkpoints/\",\n",
    "    remove_unused_columns=False,\n",
    "    evaluation_strategy=\"epoch\",\n",
    "    save_strategy=\"epoch\",\n",
    "    learning_rate=5e-5,\n",
    "    per_device_train_batch_size=16,\n",
    "    gradient_accumulation_steps=4,\n",
    "    per_device_eval_batch_size=16,\n",
    "    num_train_epochs=3,\n",
    "    warmup_ratio=0.1,\n",
    "    logging_steps=10,\n",
    "    load_best_model_at_end=True,\n",
    "    metric_for_best_model=\"accuracy\",\n",
    "    push_to_hub=False,\n",
    ")\n",
    "\n",
    "trainer = Trainer(\n",
    "    model=model,\n",
    "    args=training_args,\n",
    "    data_collator=data_collator,\n",
    "    train_dataset=ds_split[\"train\"],\n",
    "    eval_dataset=ds_split[\"test\"],\n",
    "    tokenizer=processor,\n",
    "    compute_metrics=compute_metrics,\n",
    ")\n"
   ]
  },
  {
   "cell_type": "markdown",
   "metadata": {},
   "source": [
    "**This cell can take hours:**"
   ]
  },
  {
   "cell_type": "code",
   "execution_count": null,
   "metadata": {},
   "outputs": [],
   "source": [
    "\n",
    "train_results=trainer.train()"
   ]
  },
  {
   "cell_type": "markdown",
   "metadata": {},
   "source": [
    "# Save Model"
   ]
  },
  {
   "cell_type": "code",
   "execution_count": null,
   "metadata": {},
   "outputs": [],
   "source": [
    "trainer.save_model(MODEL_SAVE_DIR)                   # Will save the model, so you can reload it using from_pretrained().\n",
    "trainer.log_metrics(\"train\", train_results.metrics)  \n",
    "trainer.log_metrics(\"test\", train_results.metrics)  \n",
    "trainer.save_metrics(\"train\", train_results.metrics) # save metrics into a .json file\n",
    "trainer.save_state()"
   ]
  },
  {
   "cell_type": "markdown",
   "metadata": {},
   "source": [
    "# Get Predictions for Evaluation Metrics"
   ]
  },
  {
   "cell_type": "markdown",
   "metadata": {},
   "source": [
    "**Warning**: Untested code "
   ]
  },
  {
   "cell_type": "code",
   "execution_count": null,
   "metadata": {},
   "outputs": [],
   "source": [
    "classifier = pipeline(\"image-classification\", model=model, image_processor=processor)\n",
    "\n",
    "def get_pred_and_probablities(ds):\n",
    "    \"\"\"Return all predicitions and probabilities for DS.\"\"\"\n",
    "    images = []\n",
    "    y_pred = []\n",
    "    y_prob = []\n",
    "    for row in ds:\n",
    "        images += [ ToPILImage()(row['pixel_values']) ]  # Convert tensor to PIL Image\n",
    "    for img in images:\n",
    "        pred = classifier(img)  # returns an array of dicts {'label', 'score'}\n",
    "        y_pred = feed.label2id[pred[0]['label']] # add first label as predicted label\n",
    "        y_prob = pred[0]['score'] # add first score as predicted score\n",
    "\n",
    "    return (np.array(y_pred), np.array(y_prob))\n",
    "\n",
    "y_pred, y_prob = get_pred_and_probablities(ds_split['test'])\n"
   ]
  }
 ],
 "metadata": {
  "kernelspec": {
   "display_name": ".venv",
   "language": "python",
   "name": "python3"
  },
  "language_info": {
   "codemirror_mode": {
    "name": "ipython",
    "version": 3
   },
   "file_extension": ".py",
   "mimetype": "text/x-python",
   "name": "python",
   "nbconvert_exporter": "python",
   "pygments_lexer": "ipython3",
   "version": "3.11.6"
  }
 },
 "nbformat": 4,
 "nbformat_minor": 2
}
