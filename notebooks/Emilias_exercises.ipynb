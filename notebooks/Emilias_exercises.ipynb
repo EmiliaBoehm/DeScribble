{
 "cells": [
  {
   "cell_type": "code",
   "execution_count": 17,
   "metadata": {},
   "outputs": [],
   "source": [
    "from transformers import AutoImageProcessor, AutoFeatureExtractor, TrOCRProcessor, VisionEncoderDecoderModel, DefaultDataCollator\n",
    "import requests\n",
    "from PIL import Image\n",
    "import torch\n",
    "from pathlib import Path\n",
    "from datasets import Dataset, load_dataset\n",
    "from torchvision.transforms import RandomResizedCrop, Compose, Normalize, ToTensor, Resize, ToPILImage\n",
    "from matplotlib import pyplot as plt\n",
    "import evaluate\n",
    "import numpy as np\n",
    "from transformers import AutoModelForImageClassification, TrainingArguments, Trainer\n",
    "from transformers import pipeline\n",
    "import random\n",
    "import pandas as pd\n"
   ]
  },
  {
   "cell_type": "code",
   "execution_count": 2,
   "metadata": {},
   "outputs": [],
   "source": [
    "\"\"\"Create Dataset: Load images\"\"\"\n",
    "IMAGES = '..\\privateDir\\example_images\\segmented'\n",
    "images_path = Path(IMAGES)\n",
    "\n",
    "images_labels = {   '001': 'male',\n",
    "                    '002': 'male',\n",
    "                    '003': 'male',\n",
    "                    '004': 'male',\n",
    "                    '005': 'male',\n",
    "                    '006': 'male',\n",
    "                    '007': 'male',\n",
    "                    '008': 'male',\n",
    "                    '020' : 'female',\n",
    "                    '021' : 'female',\n",
    "                    '022' : 'female'}"
   ]
  },
  {
   "cell_type": "code",
   "execution_count": null,
   "metadata": {},
   "outputs": [],
   "source": [
    "#LABELS = '..\\privateDir\\labels'\n",
    "#labels_path = Path(LABELS)\n",
    "#images_labels = pd.DataFrame(pd.read_csv(labels_path))"
   ]
  },
  {
   "cell_type": "code",
   "execution_count": 3,
   "metadata": {},
   "outputs": [
    {
     "name": "stdout",
     "output_type": "stream",
     "text": [
      "[{'label': 'male', 'path': WindowsPath('../privateDir/example_images/segmented/001/001.jpeg')}, {'label': 'male', 'path': WindowsPath('../privateDir/example_images/segmented/002/002.jpeg')}]\n"
     ]
    }
   ],
   "source": [
    "all_images = []\n",
    "for idx, label in images_labels.items():\n",
    "    for img_path in (images_path / idx).glob('*.jpeg'):\n",
    "        all_images.append({ 'label': label, 'path': img_path })\n",
    "\n",
    "print(all_images)"
   ]
  },
  {
   "cell_type": "code",
   "execution_count": 4,
   "metadata": {},
   "outputs": [
    {
     "name": "stdout",
     "output_type": "stream",
     "text": [
      "{'male': 0, 'female': 1, 'diverse': 2} {0: 'male', 1: 'female', 2: 'diverse'}\n"
     ]
    }
   ],
   "source": [
    "\"\"\"Create Dataset: Define IDs for target labels\"\"\"\n",
    "labels = ['male', 'female', 'diverse']\n",
    "label2id, id2label = dict(), dict()\n",
    "for i, label in enumerate(labels):\n",
    "    label2id[label]      = i\n",
    "    id2label[i]     = label\n",
    "\n",
    "print(label2id, id2label)"
   ]
  },
  {
   "cell_type": "code",
   "execution_count": 5,
   "metadata": {},
   "outputs": [],
   "source": [
    "# _generator = ({'label': l['label'], 'image': Image.open(l['path'])} for l in all_images) \n",
    "#ds = Dataset.from_generator(_generator)\n",
    "def _generator():\n",
    "    for l in all_images:\n",
    "        yield {'label': label2id[l['label']], \n",
    "               'image': Image.open(l['path'])}\n",
    "\n",
    "ds=Dataset.from_generator(_generator)\n",
    "ds = ds.train_test_split(test_size=0.2)"
   ]
  },
  {
   "cell_type": "code",
   "execution_count": 6,
   "metadata": {},
   "outputs": [],
   "source": [
    "\"\"\"Preprocess Image\"\"\"\n",
    "\n",
    "# Load Processor for ViT\n",
    "\n",
    "CHECKPOINT=\"google/vit-base-patch16-224-in21k\"\n",
    "# Alternative: TrOCRProcessor.from_pretrained(CHECKPOINT).image_processor\n",
    "processor = AutoImageProcessor.from_pretrained(CHECKPOINT)"
   ]
  },
  {
   "cell_type": "code",
   "execution_count": 34,
   "metadata": {},
   "outputs": [
    {
     "name": "stdout",
     "output_type": "stream",
     "text": [
      "(224, 224)\n",
      "tensor([[[1., 1., 1.,  ..., 1., 1., 1.],\n",
      "         [1., 1., 1.,  ..., 1., 1., 1.],\n",
      "         [1., 1., 1.,  ..., 1., 1., 1.],\n",
      "         ...,\n",
      "         [1., 1., 1.,  ..., 1., 1., 1.],\n",
      "         [1., 1., 1.,  ..., 1., 1., 1.],\n",
      "         [1., 1., 1.,  ..., 1., 1., 1.]],\n",
      "\n",
      "        [[1., 1., 1.,  ..., 1., 1., 1.],\n",
      "         [1., 1., 1.,  ..., 1., 1., 1.],\n",
      "         [1., 1., 1.,  ..., 1., 1., 1.],\n",
      "         ...,\n",
      "         [1., 1., 1.,  ..., 1., 1., 1.],\n",
      "         [1., 1., 1.,  ..., 1., 1., 1.],\n",
      "         [1., 1., 1.,  ..., 1., 1., 1.]],\n",
      "\n",
      "        [[1., 1., 1.,  ..., 1., 1., 1.],\n",
      "         [1., 1., 1.,  ..., 1., 1., 1.],\n",
      "         [1., 1., 1.,  ..., 1., 1., 1.],\n",
      "         ...,\n",
      "         [1., 1., 1.,  ..., 1., 1., 1.],\n",
      "         [1., 1., 1.,  ..., 1., 1., 1.],\n",
      "         [1., 1., 1.,  ..., 1., 1., 1.]]])\n"
     ]
    },
    {
     "data": {
      "image/png": "[encoded data removed]",
      "text/plain": [
       "<Figure size 640x480 with 1 Axes>"
      ]
     },
     "metadata": {},
     "output_type": "display_data"
    }
   ],
   "source": [
    "# Normalize Input Image\n",
    "# evtl. use processor(img), but this returns an object with different dimensions\n",
    "def tensor_to_image(t) -> Image:\n",
    "    transform=ToPILImage()\n",
    "    return transform(t)\n",
    "\n",
    "normalize = Normalize(mean=processor.image_mean, std=processor.image_std)\n",
    "# in other processors, maybe use 'shortest_edge'\n",
    "size = ( processor.size[\"height\"], processor.size[\"width\"] )\n",
    "# JV suggests: do not normalize bc these are no food images\n",
    "#_transforms = Compose([RandomResizedCrop(size), ToTensor(), normalize])\n",
    "#_transforms = Compose([Resize(size), ToTensor(), normalize])\n",
    "_transforms = Compose([RandomResizedCrop(size), ToTensor(), normalize])\n",
    "\n",
    "print(size)\n",
    "def transforms(examples):\n",
    "    \"\"\"Transform the image in the Dataset row.\"\"\"\n",
    "    examples[\"pixel_values\"] = [_transforms(img.convert(\"RGB\")) for img in examples[\"image\"]]\n",
    "    del examples[\"image\"]\n",
    "    return examples\n",
    "\n",
    "ds = ds.with_transform(transforms)\n",
    "tensor = ds['train'][0]['pixel_values']\n",
    "print(ds['train'][0]['pixel_values'])\n",
    "\n",
    "img = tensor_to_image(tensor)\n",
    "plt.imshow(img)\n",
    "plt.show()"
   ]
  },
  {
   "cell_type": "code",
   "execution_count": 8,
   "metadata": {},
   "outputs": [],
   "source": [
    "data_collator = DefaultDataCollator()\n",
    "accuracy = evaluate.load(\"accuracy\")\n",
    "\n",
    "\n",
    "def compute_metrics(eval_pred):\n",
    "    predictions, labels = eval_pred\n",
    "    predictions = np.argmax(predictions, axis=1) # highest prediction per label index\n",
    "    return accuracy.compute(predictions=predictions, references=labels)"
   ]
  },
  {
   "cell_type": "code",
   "execution_count": 9,
   "metadata": {},
   "outputs": [
    {
     "name": "stderr",
     "output_type": "stream",
     "text": [
      "Some weights of ViTForImageClassification were not initialized from the model checkpoint at google/vit-base-patch16-224-in21k and are newly initialized: ['classifier.weight', 'classifier.bias']\n",
      "You should probably TRAIN this model on a down-stream task to be able to use it for predictions and inference.\n"
     ]
    }
   ],
   "source": [
    "model = AutoModelForImageClassification.from_pretrained(\n",
    "    CHECKPOINT,\n",
    "    num_labels=len(labels),\n",
    "    id2label=id2label,\n",
    "    label2id=label2id,\n",
    ")"
   ]
  },
  {
   "cell_type": "code",
   "execution_count": 14,
   "metadata": {},
   "outputs": [
    {
     "data": {
      "application/vnd.jupyter.widget-view+json": {
       "model_id": "e1fb628c65ed448b9d764c2ae93a0c9c",
       "version_major": 2,
       "version_minor": 0
      },
      "text/plain": [
       "  0%|          | 0/10 [00:00<?, ?it/s]"
      ]
     },
     "metadata": {},
     "output_type": "display_data"
    },
    {
     "data": {
      "application/vnd.jupyter.widget-view+json": {
       "model_id": "bc672c6840d0429db6af78612b703310",
       "version_major": 2,
       "version_minor": 0
      },
      "text/plain": [
       "  0%|          | 0/1 [00:00<?, ?it/s]"
      ]
     },
     "metadata": {},
     "output_type": "display_data"
    },
    {
     "name": "stdout",
     "output_type": "stream",
     "text": [
      "{'eval_loss': 0.9373186230659485, 'eval_accuracy': 1.0, 'eval_runtime': 0.5526, 'eval_samples_per_second': 1.81, 'eval_steps_per_second': 1.81, 'epoch': 1.0}\n"
     ]
    },
    {
     "data": {
      "application/vnd.jupyter.widget-view+json": {
       "model_id": "db9d3c833af64abdbf6a4aed6b7a2fe5",
       "version_major": 2,
       "version_minor": 0
      },
      "text/plain": [
       "  0%|          | 0/1 [00:00<?, ?it/s]"
      ]
     },
     "metadata": {},
     "output_type": "display_data"
    },
    {
     "name": "stdout",
     "output_type": "stream",
     "text": [
      "{'eval_loss': 0.7734567523002625, 'eval_accuracy': 1.0, 'eval_runtime': 0.5874, 'eval_samples_per_second': 1.702, 'eval_steps_per_second': 1.702, 'epoch': 2.0}\n"
     ]
    },
    {
     "data": {
      "application/vnd.jupyter.widget-view+json": {
       "model_id": "dc0b4a1f2f3542408d7fee75572d8904",
       "version_major": 2,
       "version_minor": 0
      },
      "text/plain": [
       "  0%|          | 0/1 [00:00<?, ?it/s]"
      ]
     },
     "metadata": {},
     "output_type": "display_data"
    },
    {
     "name": "stdout",
     "output_type": "stream",
     "text": [
      "{'eval_loss': 0.603304386138916, 'eval_accuracy': 1.0, 'eval_runtime': 0.5447, 'eval_samples_per_second': 1.836, 'eval_steps_per_second': 1.836, 'epoch': 3.0}\n"
     ]
    },
    {
     "data": {
      "application/vnd.jupyter.widget-view+json": {
       "model_id": "eabf593c99f446b0ad4bc5f12d13ab11",
       "version_major": 2,
       "version_minor": 0
      },
      "text/plain": [
       "  0%|          | 0/1 [00:00<?, ?it/s]"
      ]
     },
     "metadata": {},
     "output_type": "display_data"
    },
    {
     "name": "stdout",
     "output_type": "stream",
     "text": [
      "{'eval_loss': 0.6359329223632812, 'eval_accuracy': 1.0, 'eval_runtime': 0.5307, 'eval_samples_per_second': 1.884, 'eval_steps_per_second': 1.884, 'epoch': 4.0}\n"
     ]
    },
    {
     "data": {
      "application/vnd.jupyter.widget-view+json": {
       "model_id": "7634f6fa18fa4cae9303e521b7f6940d",
       "version_major": 2,
       "version_minor": 0
      },
      "text/plain": [
       "  0%|          | 0/1 [00:00<?, ?it/s]"
      ]
     },
     "metadata": {},
     "output_type": "display_data"
    },
    {
     "name": "stdout",
     "output_type": "stream",
     "text": [
      "{'eval_loss': 0.5699175596237183, 'eval_accuracy': 1.0, 'eval_runtime': 0.5187, 'eval_samples_per_second': 1.928, 'eval_steps_per_second': 1.928, 'epoch': 5.0}\n"
     ]
    },
    {
     "data": {
      "application/vnd.jupyter.widget-view+json": {
       "model_id": "3f4e74a78508454cb394b7e0a7e0f1fa",
       "version_major": 2,
       "version_minor": 0
      },
      "text/plain": [
       "  0%|          | 0/1 [00:00<?, ?it/s]"
      ]
     },
     "metadata": {},
     "output_type": "display_data"
    },
    {
     "name": "stdout",
     "output_type": "stream",
     "text": [
      "{'eval_loss': 0.4695756733417511, 'eval_accuracy': 1.0, 'eval_runtime': 0.5235, 'eval_samples_per_second': 1.91, 'eval_steps_per_second': 1.91, 'epoch': 6.0}\n"
     ]
    },
    {
     "data": {
      "application/vnd.jupyter.widget-view+json": {
       "model_id": "3bf671cb9cd842ef8269787f61b51bc8",
       "version_major": 2,
       "version_minor": 0
      },
      "text/plain": [
       "  0%|          | 0/1 [00:00<?, ?it/s]"
      ]
     },
     "metadata": {},
     "output_type": "display_data"
    },
    {
     "name": "stdout",
     "output_type": "stream",
     "text": [
      "{'eval_loss': 0.4375731647014618, 'eval_accuracy': 1.0, 'eval_runtime': 0.5251, 'eval_samples_per_second': 1.905, 'eval_steps_per_second': 1.905, 'epoch': 7.0}\n"
     ]
    },
    {
     "data": {
      "application/vnd.jupyter.widget-view+json": {
       "model_id": "47a51c47faa64cdea49330f19394e9a1",
       "version_major": 2,
       "version_minor": 0
      },
      "text/plain": [
       "  0%|          | 0/1 [00:00<?, ?it/s]"
      ]
     },
     "metadata": {},
     "output_type": "display_data"
    },
    {
     "name": "stdout",
     "output_type": "stream",
     "text": [
      "{'eval_loss': 0.39079204201698303, 'eval_accuracy': 1.0, 'eval_runtime': 0.5046, 'eval_samples_per_second': 1.982, 'eval_steps_per_second': 1.982, 'epoch': 8.0}\n"
     ]
    },
    {
     "data": {
      "application/vnd.jupyter.widget-view+json": {
       "model_id": "61ff8f46658b45d4a295e87eea048fb3",
       "version_major": 2,
       "version_minor": 0
      },
      "text/plain": [
       "  0%|          | 0/1 [00:00<?, ?it/s]"
      ]
     },
     "metadata": {},
     "output_type": "display_data"
    },
    {
     "name": "stdout",
     "output_type": "stream",
     "text": [
      "{'eval_loss': 0.47226858139038086, 'eval_accuracy': 1.0, 'eval_runtime': 0.5271, 'eval_samples_per_second': 1.897, 'eval_steps_per_second': 1.897, 'epoch': 9.0}\n",
      "{'loss': 0.1347, 'learning_rate': 0.0, 'epoch': 10.0}\n"
     ]
    },
    {
     "data": {
      "application/vnd.jupyter.widget-view+json": {
       "model_id": "d4cc49c0c7ae4030b96407834e0834c0",
       "version_major": 2,
       "version_minor": 0
      },
      "text/plain": [
       "  0%|          | 0/1 [00:00<?, ?it/s]"
      ]
     },
     "metadata": {},
     "output_type": "display_data"
    },
    {
     "name": "stdout",
     "output_type": "stream",
     "text": [
      "{'eval_loss': 0.37578651309013367, 'eval_accuracy': 1.0, 'eval_runtime': 0.6087, 'eval_samples_per_second': 1.643, 'eval_steps_per_second': 1.643, 'epoch': 10.0}\n",
      "{'train_runtime': 36.1867, 'train_samples_per_second': 0.276, 'train_steps_per_second': 0.276, 'train_loss': 0.13469496965408326, 'epoch': 10.0}\n"
     ]
    },
    {
     "data": {
      "text/plain": [
       "TrainOutput(global_step=10, training_loss=0.13469496965408326, metrics={'train_runtime': 36.1867, 'train_samples_per_second': 0.276, 'train_steps_per_second': 0.276, 'train_loss': 0.13469496965408326, 'epoch': 10.0})"
      ]
     },
     "execution_count": 14,
     "metadata": {},
     "output_type": "execute_result"
    }
   ],
   "source": [
    "training_args = TrainingArguments(\n",
    "    output_dir=\"./local_checkpoints/\",\n",
    "    remove_unused_columns=False,\n",
    "    evaluation_strategy=\"epoch\",\n",
    "    save_strategy=\"epoch\",\n",
    "    learning_rate=5e-5,\n",
    "    per_device_train_batch_size=16,\n",
    "    gradient_accumulation_steps=4,\n",
    "    per_device_eval_batch_size=16,\n",
    "    num_train_epochs=3,\n",
    "    warmup_ratio=0.1,\n",
    "    logging_steps=10,\n",
    "    load_best_model_at_end=True,\n",
    "    metric_for_best_model=\"accuracy\",\n",
    "    push_to_hub=False,\n",
    ")\n",
    "\n",
    "trainer = Trainer(\n",
    "    model=model,\n",
    "    args=training_args,\n",
    "    data_collator=data_collator,\n",
    "    train_dataset=ds[\"train\"],\n",
    "    eval_dataset=ds[\"test\"],\n",
    "    tokenizer=processor,\n",
    "    compute_metrics=compute_metrics,\n",
    ")\n",
    "\n",
    "trainer.train()"
   ]
  },
  {
   "cell_type": "code",
   "execution_count": 13,
   "metadata": {},
   "outputs": [],
   "source": [
    "classifier = pipeline(\"image-classification\", model=model, image_processor=processor)"
   ]
  },
  {
   "cell_type": "code",
   "execution_count": 12,
   "metadata": {},
   "outputs": [
    {
     "name": "stdout",
     "output_type": "stream",
     "text": [
      "[{'score': 0.3824424147605896, 'label': 'male'}, {'score': 0.3365170359611511, 'label': 'female'}, {'score': 0.2810405492782593, 'label': 'diverse'}]\n",
      "[{'score': 0.39737528562545776, 'label': 'male'}, {'score': 0.30959898233413696, 'label': 'female'}, {'score': 0.2930257320404053, 'label': 'diverse'}]\n"
     ]
    }
   ],
   "source": [
    "classifier = pipeline(\"image-classification\", model=model, image_processor=processor)\n",
    "males = [ l['path'] for  l in random.sample(all_images, len(all_images)) if l['label'] == 'male' ][:20]\n",
    "for img in males:\n",
    "    print(classifier(Image.open(img)))"
   ]
  }
 ],
 "metadata": {
  "kernelspec": {
   "display_name": "Python 3",
   "language": "python",
   "name": "python3"
  },
  "language_info": {
   "codemirror_mode": {
    "name": "ipython",
    "version": 3
   },
   "file_extension": ".py",
   "mimetype": "text/x-python",
   "name": "python",
   "nbconvert_exporter": "python",
   "pygments_lexer": "ipython3",
   "version": "3.11.5"
  }
 },
 "nbformat": 4,
 "nbformat_minor": 2
}
